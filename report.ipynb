{
 "cells": [
  {
   "cell_type": "markdown",
   "metadata": {},
   "source": [
    "Name: Kaan Canbolat\n",
    "\n",
    "ID: 151101075\n",
    "\n",
    "Course: BIL570 /BIL470"
   ]
  },
  {
   "cell_type": "code",
   "execution_count": 1,
   "metadata": {},
   "outputs": [],
   "source": [
    "import pandas as pd\n",
    "import numpy as np\n",
    "import matplotlib.pyplot as plt\n",
    "import seaborn as sns\n",
    "from sklearn.model_selection import train_test_split\n",
    "from LR import LinearRegression"
   ]
  },
  {
   "cell_type": "markdown",
   "metadata": {},
   "source": [
    "# Exploratory Data Analysis (EDA)"
   ]
  },
  {
   "cell_type": "markdown",
   "metadata": {},
   "source": [
    "# Train the classifier"
   ]
  },
  {
   "cell_type": "code",
   "execution_count": 2,
   "metadata": {},
   "outputs": [],
   "source": [
    "clf = LinearRegression(learning_rate=0.000005, epoch=1000)"
   ]
  },
  {
   "cell_type": "code",
   "execution_count": 3,
   "metadata": {},
   "outputs": [
    {
     "name": "stdout",
     "output_type": "stream",
     "text": [
      "count    500.000000\n",
      "mean     169.944000\n",
      "std       16.375261\n",
      "min      140.000000\n",
      "25%      156.000000\n",
      "50%      170.500000\n",
      "75%      184.000000\n",
      "max      199.000000\n",
      "Name: Height, dtype: float64\n",
      "count    500.000000\n",
      "mean     106.000000\n",
      "std       32.382607\n",
      "min       50.000000\n",
      "25%       80.000000\n",
      "50%      106.000000\n",
      "75%      136.000000\n",
      "max      160.000000\n",
      "Name: Weight, dtype: float64\n",
      "count    500.000000\n",
      "mean       3.748000\n",
      "std        1.355053\n",
      "min        0.000000\n",
      "25%        3.000000\n",
      "50%        4.000000\n",
      "75%        5.000000\n",
      "max        5.000000\n",
      "Name: Index, dtype: float64\n"
     ]
    },
    {
     "data": {
      "text/html": [
       "<div>\n",
       "<style scoped>\n",
       "    .dataframe tbody tr th:only-of-type {\n",
       "        vertical-align: middle;\n",
       "    }\n",
       "\n",
       "    .dataframe tbody tr th {\n",
       "        vertical-align: top;\n",
       "    }\n",
       "\n",
       "    .dataframe thead th {\n",
       "        text-align: right;\n",
       "    }\n",
       "</style>\n",
       "<table border=\"1\" class=\"dataframe\">\n",
       "  <thead>\n",
       "    <tr style=\"text-align: right;\">\n",
       "      <th></th>\n",
       "      <th>Height</th>\n",
       "      <th>Weight</th>\n",
       "      <th>Index</th>\n",
       "    </tr>\n",
       "  </thead>\n",
       "  <tbody>\n",
       "    <tr>\n",
       "      <th>20</th>\n",
       "      <td>157</td>\n",
       "      <td>110</td>\n",
       "      <td>5</td>\n",
       "    </tr>\n",
       "    <tr>\n",
       "      <th>162</th>\n",
       "      <td>192</td>\n",
       "      <td>101</td>\n",
       "      <td>3</td>\n",
       "    </tr>\n",
       "    <tr>\n",
       "      <th>187</th>\n",
       "      <td>182</td>\n",
       "      <td>84</td>\n",
       "      <td>3</td>\n",
       "    </tr>\n",
       "    <tr>\n",
       "      <th>197</th>\n",
       "      <td>177</td>\n",
       "      <td>117</td>\n",
       "      <td>4</td>\n",
       "    </tr>\n",
       "    <tr>\n",
       "      <th>260</th>\n",
       "      <td>159</td>\n",
       "      <td>104</td>\n",
       "      <td>5</td>\n",
       "    </tr>\n",
       "    <tr>\n",
       "      <th>310</th>\n",
       "      <td>171</td>\n",
       "      <td>147</td>\n",
       "      <td>5</td>\n",
       "    </tr>\n",
       "    <tr>\n",
       "      <th>321</th>\n",
       "      <td>181</td>\n",
       "      <td>111</td>\n",
       "      <td>4</td>\n",
       "    </tr>\n",
       "    <tr>\n",
       "      <th>327</th>\n",
       "      <td>167</td>\n",
       "      <td>85</td>\n",
       "      <td>4</td>\n",
       "    </tr>\n",
       "    <tr>\n",
       "      <th>334</th>\n",
       "      <td>157</td>\n",
       "      <td>56</td>\n",
       "      <td>2</td>\n",
       "    </tr>\n",
       "    <tr>\n",
       "      <th>347</th>\n",
       "      <td>162</td>\n",
       "      <td>58</td>\n",
       "      <td>2</td>\n",
       "    </tr>\n",
       "    <tr>\n",
       "      <th>354</th>\n",
       "      <td>190</td>\n",
       "      <td>50</td>\n",
       "      <td>0</td>\n",
       "    </tr>\n",
       "    <tr>\n",
       "      <th>355</th>\n",
       "      <td>174</td>\n",
       "      <td>90</td>\n",
       "      <td>3</td>\n",
       "    </tr>\n",
       "    <tr>\n",
       "      <th>365</th>\n",
       "      <td>141</td>\n",
       "      <td>80</td>\n",
       "      <td>5</td>\n",
       "    </tr>\n",
       "    <tr>\n",
       "      <th>381</th>\n",
       "      <td>191</td>\n",
       "      <td>62</td>\n",
       "      <td>1</td>\n",
       "    </tr>\n",
       "    <tr>\n",
       "      <th>382</th>\n",
       "      <td>177</td>\n",
       "      <td>117</td>\n",
       "      <td>4</td>\n",
       "    </tr>\n",
       "    <tr>\n",
       "      <th>395</th>\n",
       "      <td>164</td>\n",
       "      <td>71</td>\n",
       "      <td>3</td>\n",
       "    </tr>\n",
       "    <tr>\n",
       "      <th>398</th>\n",
       "      <td>149</td>\n",
       "      <td>61</td>\n",
       "      <td>3</td>\n",
       "    </tr>\n",
       "    <tr>\n",
       "      <th>400</th>\n",
       "      <td>195</td>\n",
       "      <td>104</td>\n",
       "      <td>3</td>\n",
       "    </tr>\n",
       "    <tr>\n",
       "      <th>419</th>\n",
       "      <td>177</td>\n",
       "      <td>61</td>\n",
       "      <td>2</td>\n",
       "    </tr>\n",
       "    <tr>\n",
       "      <th>421</th>\n",
       "      <td>140</td>\n",
       "      <td>146</td>\n",
       "      <td>5</td>\n",
       "    </tr>\n",
       "    <tr>\n",
       "      <th>462</th>\n",
       "      <td>179</td>\n",
       "      <td>56</td>\n",
       "      <td>1</td>\n",
       "    </tr>\n",
       "    <tr>\n",
       "      <th>466</th>\n",
       "      <td>188</td>\n",
       "      <td>99</td>\n",
       "      <td>3</td>\n",
       "    </tr>\n",
       "    <tr>\n",
       "      <th>482</th>\n",
       "      <td>142</td>\n",
       "      <td>86</td>\n",
       "      <td>5</td>\n",
       "    </tr>\n",
       "    <tr>\n",
       "      <th>492</th>\n",
       "      <td>198</td>\n",
       "      <td>50</td>\n",
       "      <td>0</td>\n",
       "    </tr>\n",
       "  </tbody>\n",
       "</table>\n",
       "</div>"
      ],
      "text/plain": [
       "     Height  Weight  Index\n",
       "20      157     110      5\n",
       "162     192     101      3\n",
       "187     182      84      3\n",
       "197     177     117      4\n",
       "260     159     104      5\n",
       "310     171     147      5\n",
       "321     181     111      4\n",
       "327     167      85      4\n",
       "334     157      56      2\n",
       "347     162      58      2\n",
       "354     190      50      0\n",
       "355     174      90      3\n",
       "365     141      80      5\n",
       "381     191      62      1\n",
       "382     177     117      4\n",
       "395     164      71      3\n",
       "398     149      61      3\n",
       "400     195     104      3\n",
       "419     177      61      2\n",
       "421     140     146      5\n",
       "462     179      56      1\n",
       "466     188      99      3\n",
       "482     142      86      5\n",
       "492     198      50      0"
      ]
     },
     "metadata": {},
     "output_type": "display_data"
    },
    {
     "data": {
      "text/plain": [
       "24"
      ]
     },
     "metadata": {},
     "output_type": "display_data"
    }
   ],
   "source": [
    "bmi = pd.read_csv(\"500_Person_Gender_Height_Weight_Index.csv\");\n",
    "#discription of columns\n",
    "bmi= bmi.drop(columns=\"Gender\");\n",
    "\n",
    "height= bmi[\"Height\"].describe();\n",
    "weight= bmi[\"Weight\"].describe();\n",
    "index= bmi[\"Index\"].describe();\n",
    "print(height)\n",
    "print(weight)\n",
    "print(index)\n",
    "display(bmi[bmi.duplicated()])\n",
    "display(bmi.duplicated().sum())\n"
   ]
  },
  {
   "cell_type": "markdown",
   "metadata": {},
   "source": [
    "Split dataset to train and test"
   ]
  },
  {
   "cell_type": "code",
   "execution_count": 4,
   "metadata": {},
   "outputs": [],
   "source": [
    "X=bmi.values.tolist();\n",
    "boy=[];\n",
    "kilo=[];\n",
    "z=[];\n",
    "for row in X:\n",
    "    z.append(int(row[2]));   \n",
    "    del row[2];\n",
    "    \n",
    "X=pd.Series(X);\n",
    "z=pd.Series(z);\n",
    "X_train, X_test, z_train, z_test = train_test_split(X, z, test_size=0.5, shuffle=True);\n",
    "\n",
    "y_train=[];\n",
    "x_train=[];\n",
    "for row in X_train:\n",
    "    y_train.append(int(row[1]))\n",
    "    x_train.append(int(row[0]))\n",
    "    del row[1];\n",
    "    del row[0];\n",
    "\n",
    "y_test=[];\n",
    "x_test=[];\n",
    "for row in X_test:\n",
    "    y_test.append(int(row[1]))\n",
    "    x_test.append(int(row[0]))\n",
    "    del row[1];\n",
    "    del row[0];\n",
    "\n",
    "z_train_list=z_train.values.tolist();\n",
    "z_test_list=z_test.values.tolist();\n"
   ]
  },
  {
   "cell_type": "markdown",
   "metadata": {},
   "source": [
    "### Train The Classifier"
   ]
  },
  {
   "cell_type": "code",
   "execution_count": 5,
   "metadata": {},
   "outputs": [
    {
     "name": "stdout",
     "output_type": "stream",
     "text": [
      "R2 Accuracy and Training Loss Graph\n"
     ]
    },
    {
     "data": {
      "image/png": "[encoded data removed]",
      "text/plain": [
       "<Figure size 432x288 with 1 Axes>"
      ]
     },
     "metadata": {
      "needs_background": "light"
     },
     "output_type": "display_data"
    }
   ],
   "source": [
    "myepoch,myloss,myRsquaredAccurracy,newm1,newm2,newbias,m1list,m2list,biaslist=clf.fit(x_train,y_train,z_train_list);\n",
    "print(\"R2 Accuracy and Training Loss Graph\")\n",
    "plt.plot(myepoch, myloss, 'g', label='Training loss')\n",
    "plt.plot(myepoch, myRsquaredAccurracy, 'b', label='Accurracy')\n",
    "plt.title('Training loss')\n",
    "plt.xlabel('Epochs')\n",
    "plt.ylabel('Loss')\n",
    "plt.legend()\n",
    "plt.show()"
   ]
  },
  {
   "cell_type": "markdown",
   "metadata": {},
   "source": [
    "### Predict Class of Test values"
   ]
  },
  {
   "cell_type": "code",
   "execution_count": 7,
   "metadata": {},
   "outputs": [
    {
     "name": "stdout",
     "output_type": "stream",
     "text": [
      "Test Features Expected Classification\n",
      "[2, 4, 4, 2, 3, 4, 5, 1, 3, 2, 4, 2, 5, 5, 5, 5, 2, 3, 5, 4, 4, 0, 5, 2, 2, 2, 5, 5, 2, 4, 4, 4, 2, 5, 4, 4, 5, 4, 2, 4, 4, 5, 4, 5, 5, 4, 5, 2, 5, 3, 5, 3, 2, 1, 2, 4, 4, 3, 5, 3, 4, 4, 5, 0, 5, 2, 2, 4, 5, 5, 5, 4, 5, 3, 2, 5, 5, 5, 1, 4, 2, 5, 5, 5, 3, 1, 3, 4, 3, 5, 3, 3, 5, 4, 5, 4, 5, 3, 4, 5, 2, 0, 4, 5, 3, 2, 4, 0, 0, 2, 4, 3, 5, 5, 5, 5, 0, 2, 4, 5, 5, 5, 3, 5, 4, 4, 5, 4, 4, 4, 4, 4, 4, 4, 1, 5, 2, 4, 4, 1, 2, 4, 5, 4, 0, 4, 5, 5, 3, 5, 3, 5, 5, 3, 5, 5, 5, 5, 5, 5, 3, 2, 4, 4, 3, 3, 4, 2, 4, 1, 1, 3, 5, 4, 2, 3, 3, 2, 5, 5, 3, 5, 2, 3, 4, 5, 0, 5, 5, 5, 4, 4, 5, 3, 5, 5, 5, 2, 5, 5, 5, 2, 3, 3, 4, 4, 4, 2, 5, 5, 5, 5, 5, 3, 5, 4, 4, 2, 3, 5, 2, 4, 5, 4, 5, 3, 4, 5, 4, 3, 5, 4, 3, 4, 3, 2, 3, 2, 5, 5, 3, 4, 5, 5, 5, 5, 4, 3, 3, 5]\n",
      "Prediction\n",
      "[3, 5, 5, 2, 2, 4, 6, 2, 4, 3, 4, 2, 4, 5, 5, 5, 2, 2, 6, 4, 3, 1, 5, 3, 2, 2, 5, 5, 2, 4, 3, 5, 2, 6, 4, 4, 5, 4, 2, 4, 3, 6, 3, 6, 5, 4, 5, 3, 4, 3, 5, 2, 3, 2, 2, 2, 4, 2, 6, 2, 4, 3, 5, 2, 5, 3, 2, 4, 3, 6, 3, 4, 5, 4, 2, 5, 5, 6, 2, 4, 2, 4, 5, 5, 3, 2, 4, 2, 3, 5, 2, 3, 5, 5, 5, 4, 5, 3, 5, 5, 3, 1, 3, 5, 3, 3, 2, 1, 1, 2, 4, 4, 4, 6, 5, 6, 1, 3, 4, 6, 6, 4, 4, 4, 4, 4, 3, 3, 4, 4, 3, 4, 6, 3, 2, 5, 2, 4, 5, 2, 2, 4, 5, 4, 2, 3, 5, 6, 2, 5, 3, 5, 3, 2, 4, 5, 3, 5, 5, 4, 3, 2, 3, 4, 3, 3, 3, 2, 4, 2, 2, 3, 5, 2, 3, 4, 3, 2, 5, 5, 3, 5, 2, 2, 4, 4, 1, 4, 6, 6, 4, 5, 5, 2, 4, 4, 4, 2, 5, 6, 3, 3, 2, 2, 4, 3, 5, 3, 5, 5, 5, 5, 4, 4, 6, 3, 4, 2, 3, 5, 2, 3, 4, 2, 5, 2, 3, 6, 4, 2, 4, 4, 4, 4, 2, 2, 3, 3, 6, 3, 3, 4, 6, 5, 6, 5, 2, 3, 2, 5]\n",
      "Train Features Expected Classification\n",
      "[4, 5, 4, 5, 2, 5, 5, 1, 2, 3, 4, 5, 4, 5, 4, 4, 4, 4, 5, 5, 4, 5, 5, 4, 5, 1, 5, 5, 4, 5, 2, 5, 5, 5, 2, 5, 4, 4, 4, 3, 4, 5, 5, 5, 5, 4, 5, 5, 4, 4, 4, 3, 4, 5, 5, 5, 2, 3, 4, 5, 4, 5, 2, 3, 5, 5, 4, 5, 2, 5, 3, 2, 2, 5, 4, 5, 4, 2, 3, 3, 4, 4, 4, 4, 5, 1, 5, 5, 3, 5, 4, 2, 0, 4, 0, 3, 4, 5, 5, 5, 3, 2, 4, 5, 4, 5, 4, 5, 5, 4, 4, 5, 4, 4, 5, 2, 5, 4, 0, 4, 5, 5, 5, 4, 1, 2, 2, 5, 5, 4, 5, 3, 5, 4, 5, 5, 4, 5, 5, 5, 5, 5, 4, 2, 5, 2, 2, 5, 3, 4, 3, 0, 3, 5, 5, 4, 2, 5, 4, 5, 1, 4, 5, 5, 4, 2, 5, 0, 5, 4, 2, 5, 5, 4, 2, 1, 5, 5, 1, 4, 5, 1, 5, 5, 3, 4, 4, 5, 2, 4, 4, 2, 2, 5, 3, 5, 4, 3, 5, 3, 5, 1, 1, 1, 2, 4, 5, 5, 5, 2, 4, 5, 2, 2, 5, 3, 5, 3, 3, 3, 5, 3, 5, 3, 4, 5, 4, 5, 4, 5, 1, 5, 5, 5, 1, 5, 2, 5, 2, 5, 5, 3, 5, 2, 5, 3, 5, 1, 5, 2]\n",
      "Prediction\n",
      "[5, 6, 4, 5, 2, 4, 5, 2, 2, 2, 3, 4, 5, 6, 4, 3, 5, 3, 5, 5, 5, 5, 5, 6, 4, 2, 4, 5, 3, 4, 2, 3, 6, 6, 2, 6, 3, 4, 3, 3, 5, 6, 6, 4, 5, 5, 5, 3, 4, 4, 3, 4, 3, 3, 6, 5, 3, 3, 5, 5, 4, 4, 3, 3, 4, 5, 5, 6, 2, 3, 2, 2, 2, 4, 3, 4, 2, 3, 4, 3, 4, 4, 3, 3, 5, 2, 5, 6, 3, 6, 4, 2, 2, 5, 2, 4, 3, 6, 5, 3, 3, 2, 3, 5, 4, 5, 2, 6, 4, 4, 5, 5, 4, 5, 5, 2, 3, 4, 2, 4, 4, 5, 5, 5, 2, 3, 2, 4, 3, 5, 6, 3, 5, 3, 4, 5, 4, 6, 4, 5, 5, 5, 4, 3, 5, 2, 2, 5, 3, 4, 3, 1, 3, 3, 3, 4, 3, 5, 4, 5, 2, 4, 5, 5, 3, 2, 5, 1, 5, 2, 3, 4, 5, 3, 2, 2, 5, 4, 2, 4, 3, 2, 5, 6, 2, 4, 4, 5, 2, 3, 2, 2, 3, 4, 3, 5, 3, 3, 5, 2, 6, 2, 1, 2, 3, 3, 5, 5, 4, 2, 3, 4, 2, 3, 4, 3, 4, 3, 3, 2, 4, 3, 5, 3, 5, 5, 5, 5, 3, 5, 2, 4, 5, 6, 2, 6, 2, 6, 2, 3, 5, 4, 4, 2, 4, 3, 6, 2, 6, 2]\n"
     ]
    }
   ],
   "source": [
    "yhat = clf.predict(x_test,y_test)\n",
    "print(\"Test Features Expected Classification\")\n",
    "print(z_test_list)\n",
    "print(\"Prediction\")\n",
    "rounded=[]\n",
    "for i in range(len(yhat)):\n",
    "    rounded.append(round(yhat[i]))\n",
    "print(rounded);\n",
    "xhat = clf.predict(x_train,y_train)\n",
    "print(\"Train Features Expected Classification\")\n",
    "print(z_train_list)\n",
    "print(\"Prediction\")\n",
    "rounded=[]\n",
    "for i in range(len(xhat)):\n",
    "    rounded.append(round(xhat[i]))\n",
    "print(rounded);\n"
   ]
  },
  {
   "cell_type": "markdown",
   "metadata": {},
   "source": [
    "# Results"
   ]
  },
  {
   "cell_type": "markdown",
   "metadata": {},
   "source": [
    "### Accuracy"
   ]
  },
  {
   "cell_type": "code",
   "execution_count": 8,
   "metadata": {},
   "outputs": [
    {
     "name": "stdout",
     "output_type": "stream",
     "text": [
      "R2 Accuracy and Loss Graph with Test Data\n"
     ]
    },
    {
     "data": {
      "image/png": "[encoded data removed]",
      "text/plain": [
       "<Figure size 432x288 with 1 Axes>"
      ]
     },
     "metadata": {
      "needs_background": "light"
     },
     "output_type": "display_data"
    }
   ],
   "source": [
    "##we are getting m1,m2,bias to lists each epoch and applying on test data for accurracy and loss\n",
    "testAccuracy=[]\n",
    "myepoch=[]\n",
    "myloss=[]\n",
    "\n",
    "for i in range(len(m1list)):\n",
    "    predictList=[]\n",
    "    for j in range(len(x_test)):\n",
    "        predictList.append(m1list[i]*x_test[j]+m2list[i]*y_test[j]+biaslist[i])\n",
    "    \n",
    "    loss=0\n",
    "    mean=0\n",
    "    for j in range(len(predictList)):\n",
    "        loss+=(predictList[j]-z_test_list[j])**2\n",
    "        \n",
    "    mean=sum(z_test_list)/len(z_test_list)\n",
    "    sumofsquares = 0\n",
    "    sumofresiduals = 0\n",
    "        \n",
    "    for j in range(len(z_test_list)) :\n",
    "        sumofsquares += (z_test_list[j] - mean) ** 2\n",
    "        sumofresiduals += (z_test_list[j] - predictList[j]) **2\n",
    "        \n",
    "    \n",
    "    score  = 1 - (sumofresiduals/sumofsquares)\n",
    "    testAccuracy.append(score)\n",
    "    loss=loss/len(predictList)\n",
    "    myepoch.append(i)\n",
    "    myloss.append(loss)\n",
    "\n",
    "\n",
    "\n",
    "print(\"R2 Accuracy and Loss Graph with Test Data\")\n",
    "plt.plot(myepoch, myloss, 'g', label='Test loss')\n",
    "plt.plot(myepoch, testAccuracy, 'b', label='Test Accurracy')\n",
    "plt.title('Test loss')\n",
    "plt.xlabel('Epochs')\n",
    "plt.ylabel('Loss')\n",
    "plt.legend()\n",
    "plt.show()\n"
   ]
  },
  {
   "cell_type": "markdown",
   "metadata": {},
   "source": [
    "R*2 Test Results"
   ]
  },
  {
   "cell_type": "code",
   "execution_count": 9,
   "metadata": {},
   "outputs": [
    {
     "name": "stdout",
     "output_type": "stream",
     "text": [
      "0.6536342798100041\n"
     ]
    }
   ],
   "source": [
    "from sklearn.metrics import r2_score\n",
    "\n",
    "r2=r2_score(z_test_list,yhat)\n",
    "print(r2)"
   ]
  },
  {
   "cell_type": "markdown",
   "metadata": {},
   "source": [
    "R*2 Train Results"
   ]
  },
  {
   "cell_type": "code",
   "execution_count": 10,
   "metadata": {},
   "outputs": [
    {
     "name": "stdout",
     "output_type": "stream",
     "text": [
      "0.6532159371439991\n"
     ]
    }
   ],
   "source": [
    "r2=r2_score(z_train_list,xhat)\n",
    "print(r2)"
   ]
  },
  {
   "cell_type": "markdown",
   "metadata": {},
   "source": [
    "Baslangicta yüksek m1 m2 bias değerleriyle başladığımızdan ve verinin azlığından dolayı bu şekilde bir sonuç çıkmakta"
   ]
  }
 ],
 "metadata": {
  "celltoolbar": "Raw Cell Format",
  "kernelspec": {
   "display_name": "Python 3 (ipykernel)",
   "language": "python",
   "name": "python3"
  },
  "language_info": {
   "codemirror_mode": {
    "name": "ipython",
    "version": 3
   },
   "file_extension": ".py",
   "mimetype": "text/x-python",
   "name": "python",
   "nbconvert_exporter": "python",
   "pygments_lexer": "ipython3",
   "version": "3.9.12"
  },
  "toc": {
   "base_numbering": 1,
   "nav_menu": {},
   "number_sections": true,
   "sideBar": true,
   "skip_h1_title": false,
   "title_cell": "Table of Contents",
   "title_sidebar": "Contents",
   "toc_cell": false,
   "toc_position": {},
   "toc_section_display": true,
   "toc_window_display": false
  },
  "varInspector": {
   "cols": {
    "lenName": 16,
    "lenType": 16,
    "lenVar": 40
   },
   "kernels_config": {
    "python": {
     "delete_cmd_postfix": "",
     "delete_cmd_prefix": "del ",
     "library": "var_list.py",
     "varRefreshCmd": "print(var_dic_list())"
    },
    "r": {
     "delete_cmd_postfix": ") ",
     "delete_cmd_prefix": "rm(",
     "library": "var_list.r",
     "varRefreshCmd": "cat(var_dic_list()) "
    }
   },
   "types_to_exclude": [
    "module",
    "function",
    "builtin_function_or_method",
    "instance",
    "_Feature"
   ],
   "window_display": false
  },
  "vscode": {
   "interpreter": {
    "hash": "2d4130863b0ebccb0e4a0e21a389ef9f43b041a8a3f20ffa6ed5a98a15dd097a"
   }
  }
 },
 "nbformat": 4,
 "nbformat_minor": 2
}
